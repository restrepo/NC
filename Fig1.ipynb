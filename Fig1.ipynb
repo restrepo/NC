{
 "cells": [
  {
   "cell_type": "code",
   "execution_count": 1,
   "metadata": {},
   "outputs": [],
   "source": [
    "import pandas as pd"
   ]
  },
  {
   "cell_type": "code",
   "execution_count": null,
   "metadata": {},
   "outputs": [],
   "source": [
    "df=pd.read_csv('https://github.com/restrepo/NC/raw/main/NewAll.csv.gz')"
   ]
  },
  {
   "cell_type": "code",
   "execution_count": 106,
   "metadata": {},
   "outputs": [
    {
     "name": "stdout",
     "output_type": "stream",
     "text": [
      "Populating the interactive namespace from numpy and matplotlib\n"
     ]
    }
   ],
   "source": [
    "%pylab inline"
   ]
  },
  {
   "cell_type": "code",
   "execution_count": 107,
   "metadata": {},
   "outputs": [
    {
     "data": {
      "text/plain": [
       "(1162585, 29)"
      ]
     },
     "execution_count": 107,
     "metadata": {},
     "output_type": "execute_result"
    }
   ],
   "source": [
    "df.shape"
   ]
  },
  {
   "cell_type": "code",
   "execution_count": 108,
   "metadata": {},
   "outputs": [
    {
     "data": {
      "text/plain": [
       "(1309, 29)"
      ]
     },
     "execution_count": 108,
     "metadata": {},
     "output_type": "execute_result"
    }
   ],
   "source": [
    "dfhb=df[df['HBresult']==1]\n",
    "dfhb.shape"
   ]
  },
  {
   "cell_type": "markdown",
   "metadata": {},
   "source": [
    "\\begin{align}\n",
    "    \\lambda_1&>0, & \\lambda_3&>-\\sqrt{\\lambda_1\\lambda_2}, \\label{bound00}\\\\\n",
    "        \\lambda_2&>0, & \\lambda_3+\\lambda_4-|\\lambda_5|&>-\\sqrt{\\lambda_1\\lambda_2}\\,. \n",
    "\\end{align}\n",
    "\n",
    "`M12 -> -M12, L1 -> 2*L1, L2->2*L2`"
   ]
  },
  {
   "cell_type": "code",
   "execution_count": 109,
   "metadata": {},
   "outputs": [
    {
     "data": {
      "text/plain": [
       "(361800, 29)"
      ]
     },
     "execution_count": 109,
     "metadata": {},
     "output_type": "execute_result"
    }
   ],
   "source": [
    "dfa=df[(df['L1']>0) & (df['L2']>0)] \n",
    "dfa=dfa[(dfa['L3']>-np.sqrt(2*dfa['L1']*2*dfa['L2'])) & ( dfa['L3']+dfa['L4']-np.abs(dfa['L5'])>-np.sqrt(2*dfa['L1']*2*dfa['L2']) )]\n",
    "dfa.shape"
   ]
  },
  {
   "cell_type": "code",
   "execution_count": 111,
   "metadata": {},
   "outputs": [],
   "source": [
    "dfh=df[(df['mh12']>124.68**2) & (df['mh12']<125.52**2)].reset_index(drop=True)"
   ]
  },
  {
   "cell_type": "code",
   "execution_count": 121,
   "metadata": {},
   "outputs": [
    {
     "data": {
      "image/png": "[encoded data removed]",
      "text/plain": [
       "<Figure size 432x288 with 1 Axes>"
      ]
     },
     "metadata": {
      "needs_background": "light"
     },
     "output_type": "display_data"
    }
   ],
   "source": [
    "plt.semilogy(df['L5H'],-df['M12'],'c.')\n",
    "plt.semilogy(dfa['L5H'],-dfa['M12'],'g.')\n",
    "plt.semilogy(dfh['L5H'],-dfh['M12'],'b.')\n",
    "plt.semilogy(dfhb['L5H'],-dfhb['M12'],'y.')\n",
    "plt.savefig('file.png')"
   ]
  },
  {
   "cell_type": "code",
   "execution_count": 113,
   "metadata": {},
   "outputs": [],
   "source": [
    "dfHB=df[df['h1VV']>0].reset_index(drop=True)"
   ]
  },
  {
   "cell_type": "markdown",
   "metadata": {},
   "source": [
    "Puntos donde SPheno calcula mal `s(b-a)`"
   ]
  },
  {
   "cell_type": "code",
   "execution_count": 118,
   "metadata": {},
   "outputs": [
    {
     "data": {
      "text/plain": [
       "(0, 29)"
      ]
     },
     "execution_count": 118,
     "metadata": {},
     "output_type": "execute_result"
    }
   ],
   "source": [
    "kk=dfHB[(dfHB['s(b-a)'].abs()-dfHB['h1VV'].abs()).abs()>0.3]\n",
    "kk[kk['mh12']<kk['mh22']].shape"
   ]
  },
  {
   "cell_type": "code",
   "execution_count": 120,
   "metadata": {},
   "outputs": [
    {
     "data": {
      "text/plain": [
       "(0, 29)"
      ]
     },
     "execution_count": 120,
     "metadata": {},
     "output_type": "execute_result"
    }
   ],
   "source": [
    "kk=dfHB[~((dfHB['s(b-a)'].abs()-dfHB['h1VV'].abs()).abs()>0.3)]\n",
    "kk[kk['mh12']>kk['mh22']].shape"
   ]
  }
 ],
 "metadata": {
  "kernelspec": {
   "display_name": "Python 3 (ipykernel)",
   "language": "python",
   "name": "python3"
  },
  "language_info": {
   "codemirror_mode": {
    "name": "ipython",
    "version": 3
   },
   "file_extension": ".py",
   "mimetype": "text/x-python",
   "name": "python",
   "nbconvert_exporter": "python",
   "pygments_lexer": "ipython3",
   "version": "3.7.3"
  }
 },
 "nbformat": 4,
 "nbformat_minor": 4
}
